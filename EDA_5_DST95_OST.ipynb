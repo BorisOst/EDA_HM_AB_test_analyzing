{
 "cells": [
  {
   "cell_type": "markdown",
   "metadata": {},
   "source": [
    "## <center> **Анализ результатов A/B-тестирования**"
   ]
  },
  {
   "cell_type": "markdown",
   "metadata": {},
   "source": [
    "Компания планирует запустить новую акцию, чтобы продать как можно больше туров. Команда разработала два варианта посадочной страницы официального сайта компании и провела A/B-тестирование. Собранные в результате проведения эксперимента данные вы можете найти здесь.\n",
    "\n",
    "Вам предстоит решить настоящую бизнес-задачу: проанализировать эффективность обоих вариантов посадочной страницы сразу по двум критериям: конверсии покупки и среднему чеку. На основе проведенного анализа вам будет необходимо сделать выводы и принять решение: какой из вариантов дизайна более предпочтительный.\n",
    "\n",
    "Итак, наша фирма предлагает следующие варианты туров и их соответствующие стоимости:\n",
    "* Таиланд — 100000 рублей;\n",
    "* Турция — 60000 рублей;\n",
    "* Мальдивы — 200000 рублей;\n",
    "* Санкт-Петербург — 10000 рублей;\n",
    "* Камчатка — 150000 рублей."
   ]
  },
  {
   "cell_type": "code",
   "execution_count": 1,
   "metadata": {},
   "outputs": [],
   "source": [
    "import pandas as pd\n",
    "import matplotlib.pyplot as plt\n",
    "import seaborn as sns\n",
    "from scipy.stats import norm\n",
    "from scipy.stats import t\n",
    "from scipy.stats import ttest_ind, shapiro, f_oneway, mannwhitneyu\n",
    "from statsmodels.stats.proportion import proportions_ztest"
   ]
  },
  {
   "cell_type": "markdown",
   "metadata": {},
   "source": [
    "Прочитаем наши данные и посмотрим на столбцы таблицы:"
   ]
  },
  {
   "cell_type": "code",
   "execution_count": 2,
   "metadata": {},
   "outputs": [
    {
     "data": {
      "text/html": [
       "<div>\n",
       "<style scoped>\n",
       "    .dataframe tbody tr th:only-of-type {\n",
       "        vertical-align: middle;\n",
       "    }\n",
       "\n",
       "    .dataframe tbody tr th {\n",
       "        vertical-align: top;\n",
       "    }\n",
       "\n",
       "    .dataframe thead th {\n",
       "        text-align: right;\n",
       "    }\n",
       "</style>\n",
       "<table border=\"1\" class=\"dataframe\">\n",
       "  <thead>\n",
       "    <tr style=\"text-align: right;\">\n",
       "      <th></th>\n",
       "      <th>user_id</th>\n",
       "      <th>date</th>\n",
       "      <th>group</th>\n",
       "      <th>purchase</th>\n",
       "      <th>price</th>\n",
       "    </tr>\n",
       "  </thead>\n",
       "  <tbody>\n",
       "    <tr>\n",
       "      <th>0</th>\n",
       "      <td>851104</td>\n",
       "      <td>2021-01-21</td>\n",
       "      <td>A</td>\n",
       "      <td>0</td>\n",
       "      <td>0</td>\n",
       "    </tr>\n",
       "    <tr>\n",
       "      <th>1</th>\n",
       "      <td>804228</td>\n",
       "      <td>2021-01-12</td>\n",
       "      <td>A</td>\n",
       "      <td>0</td>\n",
       "      <td>0</td>\n",
       "    </tr>\n",
       "    <tr>\n",
       "      <th>2</th>\n",
       "      <td>661590</td>\n",
       "      <td>2021-01-11</td>\n",
       "      <td>B</td>\n",
       "      <td>0</td>\n",
       "      <td>0</td>\n",
       "    </tr>\n",
       "    <tr>\n",
       "      <th>3</th>\n",
       "      <td>853541</td>\n",
       "      <td>2021-01-08</td>\n",
       "      <td>B</td>\n",
       "      <td>0</td>\n",
       "      <td>0</td>\n",
       "    </tr>\n",
       "    <tr>\n",
       "      <th>4</th>\n",
       "      <td>864975</td>\n",
       "      <td>2021-01-21</td>\n",
       "      <td>A</td>\n",
       "      <td>1</td>\n",
       "      <td>150000</td>\n",
       "    </tr>\n",
       "  </tbody>\n",
       "</table>\n",
       "</div>"
      ],
      "text/plain": [
       "   user_id        date group  purchase   price\n",
       "0   851104  2021-01-21     A         0       0\n",
       "1   804228  2021-01-12     A         0       0\n",
       "2   661590  2021-01-11     B         0       0\n",
       "3   853541  2021-01-08     B         0       0\n",
       "4   864975  2021-01-21     A         1  150000"
      ]
     },
     "execution_count": 2,
     "metadata": {},
     "output_type": "execute_result"
    }
   ],
   "source": [
    "data = pd.read_csv('data/ab_data_tourist.csv')\n",
    "data.head()"
   ]
  },
  {
   "cell_type": "markdown",
   "metadata": {},
   "source": [
    "* user_id\tидентификатор пользователя, зашедшего на сайт\n",
    "* date\tдата захода\n",
    "* group\tгруппа теста (контрольная — А или тестовая — B)\n",
    "* purchase\tпризнак покупки: совершил ли пользователь покупку тура (1 — да, 0 — нет)\n",
    "* price\tцена купленного тура (если покупка не состоялась, цена равна 0)"
   ]
  },
  {
   "cell_type": "markdown",
   "metadata": {
    "tags": []
   },
   "source": [
    "## **Задание 7.1.**\n",
    "\n",
    "Начнем с исследования структуры наших данных. С помощью метода info() выведите информацию о типах данных и количестве непустых значений. Какой тип данных имеет столбец date?"
   ]
  },
  {
   "cell_type": "code",
   "execution_count": 3,
   "metadata": {},
   "outputs": [
    {
     "name": "stdout",
     "output_type": "stream",
     "text": [
      "<class 'pandas.core.frame.DataFrame'>\n",
      "RangeIndex: 294478 entries, 0 to 294477\n",
      "Data columns (total 5 columns):\n",
      " #   Column    Non-Null Count   Dtype \n",
      "---  ------    --------------   ----- \n",
      " 0   user_id   294478 non-null  int64 \n",
      " 1   date      294478 non-null  object\n",
      " 2   group     294478 non-null  object\n",
      " 3   purchase  294478 non-null  int64 \n",
      " 4   price     294478 non-null  int64 \n",
      "dtypes: int64(3), object(2)\n",
      "memory usage: 11.2+ MB\n"
     ]
    }
   ],
   "source": [
    "data.info()"
   ]
  },
  {
   "cell_type": "markdown",
   "metadata": {
    "tags": []
   },
   "source": [
    "## **Задание 7.2.**\n",
    "\n",
    "Приведите столбец date к типу данных datetime. Убедитесь в равной длительности проведения тестирования для каждой из группы. Для этого сгруппируйте данные по признаку группы и определите первую и последнюю дату наблюдения для каждой из групп. \n",
    "\n",
    "В какой промежуток времени проводился A/B-тест?\n"
   ]
  },
  {
   "cell_type": "code",
   "execution_count": 4,
   "metadata": {},
   "outputs": [
    {
     "name": "stdout",
     "output_type": "stream",
     "text": [
      "Даты начала тестирования для групп A и B совпадают: True\n",
      "Даты окончания тестирования для групп A и B совпадают: True\n",
      "Тест продлился: с 2021-01-02 по 2021-01-24\n"
     ]
    }
   ],
   "source": [
    "data['date'] = pd.to_datetime(data['date'], format='%Y-%m-%d')\n",
    "\n",
    "# Сравнение дат начала тестирования для групп\n",
    "print('Даты начала тестирования для групп A и B совпадают: ', end='')\n",
    "print(data[data['group']=='A']['date'].min() == \n",
    "      data[data['group']=='B']['date'].min())\n",
    "\n",
    "# Сравнение дат конца тестирования для групп\n",
    "print('Даты окончания тестирования для групп A и B совпадают: ', end='')\n",
    "print(data[data['group']=='A']['date'].max() == \n",
    "      data[data['group']=='B']['date'].max())\n",
    "\n",
    "# Длительность теста\n",
    "print('Тест продлился: с', end=' ')\n",
    "print(f\"{data[data['group']=='A']['date'].min().date()} по\", end=' ')\n",
    "print(f\"{data[data['group']=='A']['date'].max().date()}\")"
   ]
  },
  {
   "cell_type": "markdown",
   "metadata": {},
   "source": [
    "## **Задание 7.3.**\n",
    "\n",
    "* Чему равно количество посещений сайта в группах А и B?\n",
    "\n",
    "* Чему равно суммарное количество покупок в группах А и B?\n",
    "\n",
    "* Чему равна сумма всех покупок в группах А и B? Ответ приведите в миллионах рублей. Например, 185.52 млн. руб."
   ]
  },
  {
   "cell_type": "code",
   "execution_count": 5,
   "metadata": {},
   "outputs": [
    {
     "data": {
      "text/html": [
       "<div>\n",
       "<style scoped>\n",
       "    .dataframe tbody tr th:only-of-type {\n",
       "        vertical-align: middle;\n",
       "    }\n",
       "\n",
       "    .dataframe tbody tr th {\n",
       "        vertical-align: top;\n",
       "    }\n",
       "\n",
       "    .dataframe thead th {\n",
       "        text-align: right;\n",
       "    }\n",
       "</style>\n",
       "<table border=\"1\" class=\"dataframe\">\n",
       "  <thead>\n",
       "    <tr style=\"text-align: right;\">\n",
       "      <th></th>\n",
       "      <th>Число посещений</th>\n",
       "      <th>Покупки</th>\n",
       "      <th>Сумма, млн</th>\n",
       "    </tr>\n",
       "    <tr>\n",
       "      <th>group</th>\n",
       "      <th></th>\n",
       "      <th></th>\n",
       "      <th></th>\n",
       "    </tr>\n",
       "  </thead>\n",
       "  <tbody>\n",
       "    <tr>\n",
       "      <th>A</th>\n",
       "      <td>147202</td>\n",
       "      <td>17723</td>\n",
       "      <td>1436.26</td>\n",
       "    </tr>\n",
       "    <tr>\n",
       "      <th>B</th>\n",
       "      <td>147276</td>\n",
       "      <td>17514</td>\n",
       "      <td>1554.10</td>\n",
       "    </tr>\n",
       "  </tbody>\n",
       "</table>\n",
       "</div>"
      ],
      "text/plain": [
       "       Число посещений  Покупки  Сумма, млн\n",
       "group                                      \n",
       "A               147202    17723     1436.26\n",
       "B               147276    17514     1554.10"
      ]
     },
     "execution_count": 5,
     "metadata": {},
     "output_type": "execute_result"
    }
   ],
   "source": [
    "# Группировка по группам\n",
    "data_group = data.groupby('group').agg(\n",
    "    {'user_id': 'count', 'purchase': 'sum', 'price': 'sum'})\n",
    "\n",
    "# Перевод суммарных покупок в миллионы\n",
    "data_group['price'] = 1e-6 * data_group['price']\n",
    "\n",
    "# Вывод таблицы\n",
    "data_group.rename(columns={\n",
    "    'user_id': 'Число посещений', \n",
    "    'purchase': 'Покупки', \n",
    "    'price': 'Сумма, млн'})"
   ]
  },
  {
   "cell_type": "markdown",
   "metadata": {
    "tags": []
   },
   "source": [
    "## **Задание 7.4.**\n",
    "\n",
    "Проверьте, есть ли пользователи, которые в процессе A/B-теста попали в обе тестовые группы? Если да, то сколько таких уникальных пользователей, если нет - введите в поле для ответа 0?\n",
    "\n",
    "**Подсказка:**\n",
    "\n",
    "*Создайте множество пользователей группы А и множество пользователей группы B. Пересеките два этих множества (операция intersection) и вычислите количество элементов в полученном множестве.*\n"
   ]
  },
  {
   "cell_type": "code",
   "execution_count": 6,
   "metadata": {},
   "outputs": [
    {
     "name": "stdout",
     "output_type": "stream",
     "text": [
      "Количество \"пересекающихся\" пользователей: 1895\n"
     ]
    }
   ],
   "source": [
    "# Создание множеств\n",
    "user_set_a = set(data[(data['group'] == 'A')]['user_id'])\n",
    "user_set_b = set(data[(data['group'] == 'B')]['user_id'])\n",
    "\n",
    "# Пересечение пользователей в 2х группах\n",
    "user_intersection = user_set_a.intersection(user_set_b)\n",
    "\n",
    "print(f'Количество \"пересекающихся\" пользователей: {len(user_intersection)}')"
   ]
  },
  {
   "cell_type": "markdown",
   "metadata": {
    "tags": []
   },
   "source": [
    "## **Исключите пользователей, оказавшихся в обеих группах**\n",
    "\n",
    "Так как мы не можем определить, какая из версий сайта повлияла на принятие решения, исключим этих пользователей. Далее мы будем работать только с очищенными от пересечений данными.\n",
    "\n",
    "Возможный вариант исключения пользователей:"
   ]
  },
  {
   "cell_type": "code",
   "execution_count": 9,
   "metadata": {},
   "outputs": [],
   "source": [
    "updated_data = data[data['user_id'].apply(lambda x: x not in user_intersection)]"
   ]
  },
  {
   "cell_type": "markdown",
   "metadata": {},
   "source": [
    "Где user_intersection - множество пересечений пользователей групп А и B."
   ]
  },
  {
   "attachments": {
    "95f235d2-6323-4799-bf69-697fc57f727b.png": {
     "image/png": "[encoded data removed]"
    }
   },
   "cell_type": "markdown",
   "metadata": {
    "tags": []
   },
   "source": [
    "## **Задание 7.5.**\n",
    "\n",
    "Для первичного анализа результатов A/B-тестирования нам понадобится таблица следующего вида:\n",
    "\n",
    "![image.png](attachment:95f235d2-6323-4799-bf69-697fc57f727b.png)\n",
    " \n",
    " \n",
    "Для того, чтобы получить такую таблицу, сгруппируйте данные по признаку группы. В каждой группе рассчитайте следующие показатели:\n",
    "* количество посещений (количество пользователей)\n",
    "* количество совершенных покупок\n",
    "* сумма всех покупок в группе\n",
    "\n",
    "В полученной сгруппированной таблице переименуйте столбцы на **count_visits, count_purchases и sum_price**.\n",
    "\n",
    "**Подсказка:**\n",
    "\n",
    "*Для переименования столбцов можно использовать метод rename() с параметром columns, в который передается словарь. Ключи этого словаря - старые имена столбцов, а значения - новые.*\n",
    "\n",
    "Чему на этот раз равно количество посещений сайта в группах А и B?\n"
   ]
  },
  {
   "cell_type": "code",
   "execution_count": 10,
   "metadata": {},
   "outputs": [
    {
     "data": {
      "text/html": [
       "<div>\n",
       "<style scoped>\n",
       "    .dataframe tbody tr th:only-of-type {\n",
       "        vertical-align: middle;\n",
       "    }\n",
       "\n",
       "    .dataframe tbody tr th {\n",
       "        vertical-align: top;\n",
       "    }\n",
       "\n",
       "    .dataframe thead th {\n",
       "        text-align: right;\n",
       "    }\n",
       "</style>\n",
       "<table border=\"1\" class=\"dataframe\">\n",
       "  <thead>\n",
       "    <tr style=\"text-align: right;\">\n",
       "      <th></th>\n",
       "      <th>count_visits</th>\n",
       "      <th>count_purchases</th>\n",
       "      <th>sum_price</th>\n",
       "    </tr>\n",
       "    <tr>\n",
       "      <th>group</th>\n",
       "      <th></th>\n",
       "      <th></th>\n",
       "      <th></th>\n",
       "    </tr>\n",
       "  </thead>\n",
       "  <tbody>\n",
       "    <tr>\n",
       "      <th>A</th>\n",
       "      <td>145307</td>\n",
       "      <td>17487</td>\n",
       "      <td>1417780000</td>\n",
       "    </tr>\n",
       "    <tr>\n",
       "      <th>B</th>\n",
       "      <td>145381</td>\n",
       "      <td>17290</td>\n",
       "      <td>1533010000</td>\n",
       "    </tr>\n",
       "  </tbody>\n",
       "</table>\n",
       "</div>"
      ],
      "text/plain": [
       "       count_visits  count_purchases   sum_price\n",
       "group                                           \n",
       "A            145307            17487  1417780000\n",
       "B            145381            17290  1533010000"
      ]
     },
     "metadata": {},
     "output_type": "display_data"
    },
    {
     "name": "stdout",
     "output_type": "stream",
     "text": [
      "--------------------------------------------------\n",
      "Количество посещений сайта, группа A: 145307\n",
      "Количество посещений сайта, группа B: 145381\n"
     ]
    }
   ],
   "source": [
    "updated_data_group = updated_data.groupby(by='group').agg(\n",
    "    {'user_id': 'count', \n",
    "     'purchase': 'sum', \n",
    "     'price': 'sum'}).rename(\n",
    "    columns=\n",
    "    {'user_id': 'count_visits', \n",
    "     'purchase': 'count_purchases', \n",
    "     'price': 'sum_price'})\n",
    "\n",
    "display(updated_data_group)\n",
    "\n",
    "print('-'*50)\n",
    "\n",
    "print('Количество посещений сайта, группа A: ', end='')\n",
    "print(f\"{updated_data_group.loc['A', 'count_visits']}\")\n",
    "\n",
    "print('Количество посещений сайта, группа B: ', end='')\n",
    "print(f\"{updated_data_group.loc['B', 'count_visits']}\")"
   ]
  },
  {
   "cell_type": "code",
   "execution_count": 11,
   "metadata": {},
   "outputs": [
    {
     "name": "stdout",
     "output_type": "stream",
     "text": [
      "Различия в количестве посещений для 2х групп: 0.051 %\n"
     ]
    }
   ],
   "source": [
    "# Различие между количествами посещений для групп A и B\n",
    "diff_percent = round(100*(updated_data_group.loc['B', 'count_visits'] - \n",
    "                          updated_data_group.loc['A', 'count_visits'])/\n",
    "                     updated_data_group.loc['A', 'count_visits'], 3)\n",
    "\n",
    "print('Различия в количестве посещений для 2х групп: ', end='')\n",
    "print(f'{diff_percent} %')"
   ]
  },
  {
   "cell_type": "markdown",
   "metadata": {},
   "source": [
    "Приведите промежуточные выводы по построенной таблице. Сопоставимо ли количество посещений обоих вариантов посадочной странице, можно ли говорить о сбалансированности выборок?"
   ]
  },
  {
   "cell_type": "markdown",
   "metadata": {},
   "source": [
    "Поскольку различие между количеством посещений сайта для контрольной и тестовой групп составляет около 0.05% (т.е. выборка разбита по группам практически в соотношении 50/50), то выборку можно считать сбалансированной."
   ]
  },
  {
   "cell_type": "markdown",
   "metadata": {
    "tags": []
   },
   "source": [
    "## **Задание 7.6.**\n",
    "\n",
    "Добавьте в сгруппированную таблицу столбцы conversion - конверсия покупки (отношение количества покупок к количеству посещений сайта в каждой группе, выраженное в процентах) и mean_check - средний чек (отношение суммы покупок к количеству покупок в каждой группе).\n",
    "\n",
    "* Чему равна конверсия в группах? Ответ приведите в процентах и округлите до сотых. Например, 75.12 %\n",
    "* Чему равен средний чек в группах? Ответ приведите в рублях и округлите до целых. Например, 120519 рублей."
   ]
  },
  {
   "cell_type": "code",
   "execution_count": 12,
   "metadata": {},
   "outputs": [
    {
     "data": {
      "text/html": [
       "<div>\n",
       "<style scoped>\n",
       "    .dataframe tbody tr th:only-of-type {\n",
       "        vertical-align: middle;\n",
       "    }\n",
       "\n",
       "    .dataframe tbody tr th {\n",
       "        vertical-align: top;\n",
       "    }\n",
       "\n",
       "    .dataframe thead th {\n",
       "        text-align: right;\n",
       "    }\n",
       "</style>\n",
       "<table border=\"1\" class=\"dataframe\">\n",
       "  <thead>\n",
       "    <tr style=\"text-align: right;\">\n",
       "      <th></th>\n",
       "      <th>count_visits</th>\n",
       "      <th>count_purchases</th>\n",
       "      <th>sum_price</th>\n",
       "      <th>conversion</th>\n",
       "      <th>mean_check</th>\n",
       "    </tr>\n",
       "    <tr>\n",
       "      <th>group</th>\n",
       "      <th></th>\n",
       "      <th></th>\n",
       "      <th></th>\n",
       "      <th></th>\n",
       "      <th></th>\n",
       "    </tr>\n",
       "  </thead>\n",
       "  <tbody>\n",
       "    <tr>\n",
       "      <th>A</th>\n",
       "      <td>145307</td>\n",
       "      <td>17487</td>\n",
       "      <td>1417780000</td>\n",
       "      <td>12.03</td>\n",
       "      <td>81076.0</td>\n",
       "    </tr>\n",
       "    <tr>\n",
       "      <th>B</th>\n",
       "      <td>145381</td>\n",
       "      <td>17290</td>\n",
       "      <td>1533010000</td>\n",
       "      <td>11.89</td>\n",
       "      <td>88665.0</td>\n",
       "    </tr>\n",
       "  </tbody>\n",
       "</table>\n",
       "</div>"
      ],
      "text/plain": [
       "       count_visits  count_purchases   sum_price  conversion  mean_check\n",
       "group                                                                   \n",
       "A            145307            17487  1417780000       12.03     81076.0\n",
       "B            145381            17290  1533010000       11.89     88665.0"
      ]
     },
     "execution_count": 12,
     "metadata": {},
     "output_type": "execute_result"
    }
   ],
   "source": [
    "# Добавление конверсии\n",
    "updated_data_group['conversion'] = round((100*updated_data_group['count_purchases']/\n",
    "                                    updated_data_group['count_visits']), 2)\n",
    "\n",
    "# Добавление среднего чека\n",
    "updated_data_group['mean_check'] = round(updated_data_group['sum_price']/\n",
    "                                    updated_data_group['count_purchases'])\n",
    "\n",
    "updated_data_group"
   ]
  },
  {
   "cell_type": "markdown",
   "metadata": {},
   "source": [
    "Приведите промежуточные выводы по таблице. По какому(им) показателю(ям) вариант А эффективнее варианта B и наоборот?"
   ]
  },
  {
   "cell_type": "markdown",
   "metadata": {},
   "source": [
    "Из обновленной таблицы следует, что для контрольной группы (группа A) величина конверсии покупки немного больше (~0.14%), чем в тестовой группе B. Т.е. величины конверсии для групп практически равны. \n",
    "Однако при этом в тестовой группе B величина среднего чека покупки на ~8.5% больше чем в группе A. Вероятно, в группе B клиенты в среднем приобретают более дорогие туры."
   ]
  },
  {
   "cell_type": "markdown",
   "metadata": {
    "tags": []
   },
   "source": [
    "## **Задание 7.7.**\n",
    "\n",
    "Теперь давайте сравним варианты по покупательской способности туров. Для этого постройте сводную таблицу, которая покажет зависимость количества продаж от группы и цены тура. "
   ]
  },
  {
   "cell_type": "code",
   "execution_count": 13,
   "metadata": {},
   "outputs": [
    {
     "data": {
      "text/html": [
       "<div>\n",
       "<style scoped>\n",
       "    .dataframe tbody tr th:only-of-type {\n",
       "        vertical-align: middle;\n",
       "    }\n",
       "\n",
       "    .dataframe tbody tr th {\n",
       "        vertical-align: top;\n",
       "    }\n",
       "\n",
       "    .dataframe thead th {\n",
       "        text-align: right;\n",
       "    }\n",
       "</style>\n",
       "<table border=\"1\" class=\"dataframe\">\n",
       "  <thead>\n",
       "    <tr style=\"text-align: right;\">\n",
       "      <th></th>\n",
       "      <th></th>\n",
       "      <th>purchase</th>\n",
       "    </tr>\n",
       "    <tr>\n",
       "      <th>price</th>\n",
       "      <th>group</th>\n",
       "      <th></th>\n",
       "    </tr>\n",
       "  </thead>\n",
       "  <tbody>\n",
       "    <tr>\n",
       "      <th rowspan=\"2\" valign=\"top\">10000</th>\n",
       "      <th>A</th>\n",
       "      <td>5182</td>\n",
       "    </tr>\n",
       "    <tr>\n",
       "      <th>B</th>\n",
       "      <td>5201</td>\n",
       "    </tr>\n",
       "    <tr>\n",
       "      <th rowspan=\"2\" valign=\"top\">60000</th>\n",
       "      <th>A</th>\n",
       "      <td>5271</td>\n",
       "    </tr>\n",
       "    <tr>\n",
       "      <th>B</th>\n",
       "      <td>1730</td>\n",
       "    </tr>\n",
       "    <tr>\n",
       "      <th rowspan=\"2\" valign=\"top\">100000</th>\n",
       "      <th>A</th>\n",
       "      <td>1832</td>\n",
       "    </tr>\n",
       "    <tr>\n",
       "      <th>B</th>\n",
       "      <td>5227</td>\n",
       "    </tr>\n",
       "    <tr>\n",
       "      <th rowspan=\"2\" valign=\"top\">150000</th>\n",
       "      <th>A</th>\n",
       "      <td>3478</td>\n",
       "    </tr>\n",
       "    <tr>\n",
       "      <th>B</th>\n",
       "      <td>3438</td>\n",
       "    </tr>\n",
       "    <tr>\n",
       "      <th rowspan=\"2\" valign=\"top\">200000</th>\n",
       "      <th>A</th>\n",
       "      <td>1724</td>\n",
       "    </tr>\n",
       "    <tr>\n",
       "      <th>B</th>\n",
       "      <td>1694</td>\n",
       "    </tr>\n",
       "  </tbody>\n",
       "</table>\n",
       "</div>"
      ],
      "text/plain": [
       "              purchase\n",
       "price  group          \n",
       "10000  A          5182\n",
       "       B          5201\n",
       "60000  A          5271\n",
       "       B          1730\n",
       "100000 A          1832\n",
       "       B          5227\n",
       "150000 A          3478\n",
       "       B          3438\n",
       "200000 A          1724\n",
       "       B          1694"
      ]
     },
     "metadata": {},
     "output_type": "display_data"
    }
   ],
   "source": [
    "# Сводная таблица - количество продаж от группы и цены тура.\n",
    "# Для удобства сравнения по группам сначала идет цена тура, а затем группа\n",
    "price_group = updated_data.groupby(['price', 'group']).agg(\n",
    "    {'purchase':'sum'})\n",
    "\n",
    "# Туры с нулевой ценой (т.е. варианты без покупки) исключены\n",
    "price_group = price_group[price_group['purchase']!=0]\n",
    "\n",
    "display(price_group)"
   ]
  },
  {
   "cell_type": "markdown",
   "metadata": {},
   "source": [
    "Визуализируйте полученную сводную таблицу с помощью тепловой карты с аннотацией. \n",
    "Чему равно количество проданных туров за 60000 рублей в группах?"
   ]
  },
  {
   "cell_type": "code",
   "execution_count": 14,
   "metadata": {},
   "outputs": [
    {
     "name": "stdout",
     "output_type": "stream",
     "text": [
      "Число туров по 60кр: \n",
      "       purchase\n",
      "group          \n",
      "A          5271\n",
      "B          1730\n"
     ]
    },
    {
     "data": {
      "image/png": "[encoded data removed]",
      "text/plain": [
       "<Figure size 432x288 with 2 Axes>"
      ]
     },
     "metadata": {
      "needs_background": "light"
     },
     "output_type": "display_data"
    }
   ],
   "source": [
    "sns.heatmap(price_group, annot=True, linewidths=.5);\n",
    "\n",
    "print('Число туров по 60кр: ')\n",
    "print(f'{price_group.loc[60000]}')"
   ]
  },
  {
   "cell_type": "markdown",
   "metadata": {},
   "source": [
    "Сделайте выводы по построенной таблице. По каким турам покупательская способность участников группы А выше, чем участников группы B и наоборот?"
   ]
  },
  {
   "cell_type": "markdown",
   "metadata": {},
   "source": [
    "Из таблицы следует, что туры на Мальдивы (200кр), Камчатку (150кр) и в Питер (10кр) интересуют покупателей из обеих групп примерно одинаково. Участников контрольной группы (А) в 3 раза больше, чем тестовой (B) интересуют туры в Турцию (60кр). Более дорогие туры в Таиланд (100кр) почти в три раза больше интересуют участников тестовой группы (B). \n",
    "\n",
    "По всей видимости тестовый вариант посадочной страницы побуждает покупать более дорогие туры в Таиланд, в то время как участники контрольной группы предпочитают не тратить лишние деньги и предпочитают Турцию. По всем остальным вариантам туров поведение покупателей примерно совпадает."
   ]
  },
  {
   "cell_type": "markdown",
   "metadata": {
    "tags": []
   },
   "source": [
    "## **Задание 7.8.**\n",
    "\n",
    "Настало время поговорить о стабилизации кумулятивных метрик во времени. Но прежде, чем перейти к кумулятивным метрикам, нам необходимо построить таблицу с ежедневными данными результатов проведения A/B-тестирования.\n",
    "\n",
    "Сгруппируйте данные по дате и группе тестирования. В каждой группе вычислите количество посещений страницы, количество покупок и сумму покупок. \n",
    "\n",
    "Добавьте в таблицу информацию о ежедневной конверсии (ежедневное количество покупок / ежедневное количество посещений) в группе и ежедневном среднем чеке (ежедневная сумма покупок / ежедневное количество покупок)\n",
    "* Чему равна конверсия 3 января 2021 года? Ответ приведите в процентах и округлите до сотых.\n",
    "\n",
    "* Чему равен средний чек 3 января 2021 года? Ответ приведите в рублях и округлите до целого."
   ]
  },
  {
   "cell_type": "code",
   "execution_count": 15,
   "metadata": {},
   "outputs": [
    {
     "data": {
      "text/html": [
       "<div>\n",
       "<style scoped>\n",
       "    .dataframe tbody tr th:only-of-type {\n",
       "        vertical-align: middle;\n",
       "    }\n",
       "\n",
       "    .dataframe tbody tr th {\n",
       "        vertical-align: top;\n",
       "    }\n",
       "\n",
       "    .dataframe thead th {\n",
       "        text-align: right;\n",
       "    }\n",
       "</style>\n",
       "<table border=\"1\" class=\"dataframe\">\n",
       "  <thead>\n",
       "    <tr style=\"text-align: right;\">\n",
       "      <th></th>\n",
       "      <th>date</th>\n",
       "      <th>group</th>\n",
       "      <th>visits</th>\n",
       "      <th>purchase</th>\n",
       "      <th>price</th>\n",
       "      <th>daily_conversion</th>\n",
       "      <th>daily_mean_cheque</th>\n",
       "    </tr>\n",
       "  </thead>\n",
       "  <tbody>\n",
       "    <tr>\n",
       "      <th>0</th>\n",
       "      <td>2021-01-02</td>\n",
       "      <td>A</td>\n",
       "      <td>2854</td>\n",
       "      <td>359</td>\n",
       "      <td>29410000</td>\n",
       "      <td>12.58</td>\n",
       "      <td>81922.0</td>\n",
       "    </tr>\n",
       "    <tr>\n",
       "      <th>1</th>\n",
       "      <td>2021-01-02</td>\n",
       "      <td>B</td>\n",
       "      <td>2861</td>\n",
       "      <td>345</td>\n",
       "      <td>29660000</td>\n",
       "      <td>12.06</td>\n",
       "      <td>85971.0</td>\n",
       "    </tr>\n",
       "    <tr>\n",
       "      <th>2</th>\n",
       "      <td>2021-01-03</td>\n",
       "      <td>A</td>\n",
       "      <td>6596</td>\n",
       "      <td>748</td>\n",
       "      <td>62000000</td>\n",
       "      <td>11.34</td>\n",
       "      <td>82888.0</td>\n",
       "    </tr>\n",
       "    <tr>\n",
       "      <th>3</th>\n",
       "      <td>2021-01-03</td>\n",
       "      <td>B</td>\n",
       "      <td>6619</td>\n",
       "      <td>754</td>\n",
       "      <td>65960000</td>\n",
       "      <td>11.39</td>\n",
       "      <td>87480.0</td>\n",
       "    </tr>\n",
       "    <tr>\n",
       "      <th>4</th>\n",
       "      <td>2021-01-04</td>\n",
       "      <td>A</td>\n",
       "      <td>6566</td>\n",
       "      <td>799</td>\n",
       "      <td>64250000</td>\n",
       "      <td>12.17</td>\n",
       "      <td>80413.0</td>\n",
       "    </tr>\n",
       "  </tbody>\n",
       "</table>\n",
       "</div>"
      ],
      "text/plain": [
       "        date group  visits  purchase     price  daily_conversion  \\\n",
       "0 2021-01-02     A    2854       359  29410000             12.58   \n",
       "1 2021-01-02     B    2861       345  29660000             12.06   \n",
       "2 2021-01-03     A    6596       748  62000000             11.34   \n",
       "3 2021-01-03     B    6619       754  65960000             11.39   \n",
       "4 2021-01-04     A    6566       799  64250000             12.17   \n",
       "\n",
       "   daily_mean_cheque  \n",
       "0            81922.0  \n",
       "1            85971.0  \n",
       "2            82888.0  \n",
       "3            87480.0  \n",
       "4            80413.0  "
      ]
     },
     "execution_count": 15,
     "metadata": {},
     "output_type": "execute_result"
    }
   ],
   "source": [
    "# Группировка данных, сброс индекса, переименование столбца user_id\n",
    "upd_data_group = updated_data.groupby(['date', 'group']).agg({\n",
    "    'user_id': 'count', \n",
    "    'purchase': 'sum', \n",
    "    'price': 'sum'}).reset_index().rename(columns={'user_id': 'visits'})\n",
    "\n",
    "# Ежедневные конверсия и средний чек\n",
    "upd_data_group['daily_conversion'] = round(\n",
    "    100*upd_data_group['purchase']/upd_data_group['visits'], \n",
    "    2)\n",
    "\n",
    "upd_data_group['daily_mean_cheque'] = round(\n",
    "    upd_data_group['price'] / upd_data_group['purchase']\n",
    ")\n",
    "\n",
    "upd_data_group.head()"
   ]
  },
  {
   "cell_type": "code",
   "execution_count": 16,
   "metadata": {},
   "outputs": [
    {
     "data": {
      "text/html": [
       "<div>\n",
       "<style scoped>\n",
       "    .dataframe tbody tr th:only-of-type {\n",
       "        vertical-align: middle;\n",
       "    }\n",
       "\n",
       "    .dataframe tbody tr th {\n",
       "        vertical-align: top;\n",
       "    }\n",
       "\n",
       "    .dataframe thead th {\n",
       "        text-align: right;\n",
       "    }\n",
       "</style>\n",
       "<table border=\"1\" class=\"dataframe\">\n",
       "  <thead>\n",
       "    <tr style=\"text-align: right;\">\n",
       "      <th></th>\n",
       "      <th>date</th>\n",
       "      <th>group</th>\n",
       "      <th>daily_conversion</th>\n",
       "      <th>daily_mean_cheque</th>\n",
       "    </tr>\n",
       "  </thead>\n",
       "  <tbody>\n",
       "    <tr>\n",
       "      <th>2</th>\n",
       "      <td>2021-01-03</td>\n",
       "      <td>A</td>\n",
       "      <td>11.34</td>\n",
       "      <td>82888.0</td>\n",
       "    </tr>\n",
       "    <tr>\n",
       "      <th>3</th>\n",
       "      <td>2021-01-03</td>\n",
       "      <td>B</td>\n",
       "      <td>11.39</td>\n",
       "      <td>87480.0</td>\n",
       "    </tr>\n",
       "  </tbody>\n",
       "</table>\n",
       "</div>"
      ],
      "text/plain": [
       "        date group  daily_conversion  daily_mean_cheque\n",
       "2 2021-01-03     A             11.34            82888.0\n",
       "3 2021-01-03     B             11.39            87480.0"
      ]
     },
     "execution_count": 16,
     "metadata": {},
     "output_type": "execute_result"
    }
   ],
   "source": [
    "# Параметры на 03 января 2021г\n",
    "upd_data_group[upd_data_group['date']=='2021-01-03'][['date', \n",
    "                                                      'group', \n",
    "                                                      'daily_conversion', \n",
    "                                                      'daily_mean_cheque']]"
   ]
  },
  {
   "cell_type": "markdown",
   "metadata": {},
   "source": [
    "## **Задание 7.9.** \n",
    "\n",
    "Добавьте в таблицу с ежедневными показателями кумулятивные признаки:\n",
    "* кумулятивное количество посещений страницы\n",
    "* кумулятивное количество покупок\n",
    "* кумулятивную сумму покупок\n",
    "\n",
    "Не забудьте при расчете кумулятивной суммы сгруппировать данные по группам. \n",
    "\n",
    "Вычислите кумулятивную конверсию и кумулятивный средний чек на основе полученных кумулятивных показателей. \n",
    "\n",
    "* Какая **кумулятивная** конверсия была в группе B на 20 января? Ответ приведите в процентах, округлив до сотых.\n",
    "* Какой **кумулятивный** средний чек был в группе А на 12 января 2021 года? Ответ приведите в рублях, округлив до целых."
   ]
  },
  {
   "cell_type": "code",
   "execution_count": 17,
   "metadata": {},
   "outputs": [
    {
     "data": {
      "text/html": [
       "<div>\n",
       "<style scoped>\n",
       "    .dataframe tbody tr th:only-of-type {\n",
       "        vertical-align: middle;\n",
       "    }\n",
       "\n",
       "    .dataframe tbody tr th {\n",
       "        vertical-align: top;\n",
       "    }\n",
       "\n",
       "    .dataframe thead th {\n",
       "        text-align: right;\n",
       "    }\n",
       "</style>\n",
       "<table border=\"1\" class=\"dataframe\">\n",
       "  <thead>\n",
       "    <tr style=\"text-align: right;\">\n",
       "      <th></th>\n",
       "      <th>date</th>\n",
       "      <th>group</th>\n",
       "      <th>visits</th>\n",
       "      <th>purchase</th>\n",
       "      <th>price</th>\n",
       "      <th>daily_conversion</th>\n",
       "      <th>daily_mean_cheque</th>\n",
       "      <th>cum_visits</th>\n",
       "      <th>cum_purchase</th>\n",
       "      <th>cum_price</th>\n",
       "      <th>cum_conversion</th>\n",
       "      <th>cum_mean_cheque</th>\n",
       "    </tr>\n",
       "  </thead>\n",
       "  <tbody>\n",
       "    <tr>\n",
       "      <th>0</th>\n",
       "      <td>2021-01-02</td>\n",
       "      <td>A</td>\n",
       "      <td>2854</td>\n",
       "      <td>359</td>\n",
       "      <td>29410000</td>\n",
       "      <td>12.58</td>\n",
       "      <td>81922.0</td>\n",
       "      <td>2854</td>\n",
       "      <td>359</td>\n",
       "      <td>29410000</td>\n",
       "      <td>12.578837</td>\n",
       "      <td>81922.005571</td>\n",
       "    </tr>\n",
       "    <tr>\n",
       "      <th>1</th>\n",
       "      <td>2021-01-02</td>\n",
       "      <td>B</td>\n",
       "      <td>2861</td>\n",
       "      <td>345</td>\n",
       "      <td>29660000</td>\n",
       "      <td>12.06</td>\n",
       "      <td>85971.0</td>\n",
       "      <td>2861</td>\n",
       "      <td>345</td>\n",
       "      <td>29660000</td>\n",
       "      <td>12.058721</td>\n",
       "      <td>85971.014493</td>\n",
       "    </tr>\n",
       "    <tr>\n",
       "      <th>2</th>\n",
       "      <td>2021-01-03</td>\n",
       "      <td>A</td>\n",
       "      <td>6596</td>\n",
       "      <td>748</td>\n",
       "      <td>62000000</td>\n",
       "      <td>11.34</td>\n",
       "      <td>82888.0</td>\n",
       "      <td>9450</td>\n",
       "      <td>1107</td>\n",
       "      <td>91410000</td>\n",
       "      <td>11.714286</td>\n",
       "      <td>82574.525745</td>\n",
       "    </tr>\n",
       "    <tr>\n",
       "      <th>3</th>\n",
       "      <td>2021-01-03</td>\n",
       "      <td>B</td>\n",
       "      <td>6619</td>\n",
       "      <td>754</td>\n",
       "      <td>65960000</td>\n",
       "      <td>11.39</td>\n",
       "      <td>87480.0</td>\n",
       "      <td>9480</td>\n",
       "      <td>1099</td>\n",
       "      <td>95620000</td>\n",
       "      <td>11.592827</td>\n",
       "      <td>87006.369427</td>\n",
       "    </tr>\n",
       "    <tr>\n",
       "      <th>4</th>\n",
       "      <td>2021-01-04</td>\n",
       "      <td>A</td>\n",
       "      <td>6566</td>\n",
       "      <td>799</td>\n",
       "      <td>64250000</td>\n",
       "      <td>12.17</td>\n",
       "      <td>80413.0</td>\n",
       "      <td>16016</td>\n",
       "      <td>1906</td>\n",
       "      <td>155660000</td>\n",
       "      <td>11.900599</td>\n",
       "      <td>81668.415530</td>\n",
       "    </tr>\n",
       "  </tbody>\n",
       "</table>\n",
       "</div>"
      ],
      "text/plain": [
       "        date group  visits  purchase     price  daily_conversion  \\\n",
       "0 2021-01-02     A    2854       359  29410000             12.58   \n",
       "1 2021-01-02     B    2861       345  29660000             12.06   \n",
       "2 2021-01-03     A    6596       748  62000000             11.34   \n",
       "3 2021-01-03     B    6619       754  65960000             11.39   \n",
       "4 2021-01-04     A    6566       799  64250000             12.17   \n",
       "\n",
       "   daily_mean_cheque  cum_visits  cum_purchase  cum_price  cum_conversion  \\\n",
       "0            81922.0        2854           359   29410000       12.578837   \n",
       "1            85971.0        2861           345   29660000       12.058721   \n",
       "2            82888.0        9450          1107   91410000       11.714286   \n",
       "3            87480.0        9480          1099   95620000       11.592827   \n",
       "4            80413.0       16016          1906  155660000       11.900599   \n",
       "\n",
       "   cum_mean_cheque  \n",
       "0     81922.005571  \n",
       "1     85971.014493  \n",
       "2     82574.525745  \n",
       "3     87006.369427  \n",
       "4     81668.415530  "
      ]
     },
     "execution_count": 17,
     "metadata": {},
     "output_type": "execute_result"
    }
   ],
   "source": [
    "# Столбцы с кумулятивными признаками: посещения, число покупок, сумма покупок\n",
    "upd_data_group['cum_visits'] = upd_data_group.groupby(\n",
    "    ['group'])['visits'].cumsum()\n",
    "\n",
    "upd_data_group['cum_purchase'] = upd_data_group.groupby(\n",
    "    ['group'])['purchase'].cumsum()\n",
    "\n",
    "upd_data_group['cum_price'] = upd_data_group.groupby(\n",
    "    ['group'])['price'].cumsum()\n",
    "\n",
    "# Кумулятивная конверсия и средний чек\n",
    "upd_data_group['cum_conversion'] = (100 * \n",
    "                                    upd_data_group['cum_purchase'] / \n",
    "                                    upd_data_group['cum_visits'])\n",
    "\n",
    "upd_data_group['cum_mean_cheque'] = (upd_data_group['cum_price'] / \n",
    "                                     upd_data_group['cum_purchase'])\n",
    "\n",
    "upd_data_group.head()"
   ]
  },
  {
   "cell_type": "code",
   "execution_count": 19,
   "metadata": {},
   "outputs": [
    {
     "name": "stdout",
     "output_type": "stream",
     "text": [
      "Кумулятивная конверсия в группе B на 20 янв 2021г: 11.9 %\n",
      "Кумулятивный средний чек в группе A на 12 янв 2021г: 81492 р\n"
     ]
    }
   ],
   "source": [
    "# Маски для группы A, 12 янв 2021 и B, 20 янв 2021\n",
    "mask_a = ((upd_data_group['group']=='A') & \n",
    "          (upd_data_group['date']=='2021-01-12'))\n",
    "\n",
    "mask_b = ((upd_data_group['group']=='B') & \n",
    "          (upd_data_group['date']=='2021-01-20'))\n",
    "\n",
    "print('Кумулятивная конверсия в группе B на 20 янв 2021г: ', end='')\n",
    "print(f\"{round(float(upd_data_group.loc[mask_b, 'cum_conversion']), 2)} %\")\n",
    "\n",
    "print('Кумулятивный средний чек в группе A на 12 янв 2021г: ', end='')\n",
    "print(f\"{round(float(upd_data_group.loc[mask_a, 'cum_mean_cheque']))} р\")"
   ]
  },
  {
   "cell_type": "markdown",
   "metadata": {},
   "source": [
    "Постройте кумулятивные графики конверсии и среднего чека в каждой группе по дням. Сделайте выводы. Можно ли назвать A/B-тест завершенным - стабилизировались ли значения метрик во времени? Как соотносятся кумулятивные показатели в каждой группе?"
   ]
  },
  {
   "cell_type": "code",
   "execution_count": 20,
   "metadata": {},
   "outputs": [
    {
     "data": {
      "image/png": "[encoded data removed]",
      "text/plain": [
       "<Figure size 576x288 with 1 Axes>"
      ]
     },
     "metadata": {
      "needs_background": "light"
     },
     "output_type": "display_data"
    }
   ],
   "source": [
    "fig = plt.figure(figsize=(8, 4))\n",
    "ax = fig.add_axes([1, 1, 1, 1])\n",
    "\n",
    "# Кумулятивная конверсия \n",
    "sns.lineplot(\n",
    "    data=upd_data_group,\n",
    "    x='date',\n",
    "    y='cum_conversion',\n",
    "    hue='group',\n",
    "    ax=ax\n",
    ")\n",
    "\n",
    "# задаём подпись к графику\n",
    "ax.set_title('График кумулятивной конверсии по дням')\n",
    "\n",
    "# задаём поворот меток на оси абсцисс\n",
    "ax.xaxis.set_tick_params(rotation=45)\n",
    "\n",
    "ax.legend(['A', 'B'])\n",
    "\n",
    "# задаём отображение сетки\n",
    "ax.grid();"
   ]
  },
  {
   "cell_type": "code",
   "execution_count": 21,
   "metadata": {},
   "outputs": [
    {
     "data": {
      "image/png": "[encoded data removed]",
      "text/plain": [
       "<Figure size 576x288 with 1 Axes>"
      ]
     },
     "metadata": {
      "needs_background": "light"
     },
     "output_type": "display_data"
    }
   ],
   "source": [
    "fig = plt.figure(figsize=(8, 4))\n",
    "ax = fig.add_axes([1, 1, 1, 1])\n",
    "\n",
    "# Кумулятивная конверсия \n",
    "sns.lineplot(\n",
    "    data=upd_data_group,\n",
    "    x='date',\n",
    "    y='cum_mean_cheque',\n",
    "    hue='group',\n",
    "    ax=ax\n",
    ")\n",
    "\n",
    "# задаём подпись к графику\n",
    "ax.set_title('Кумулятивный средний чек по дням')\n",
    "\n",
    "# задаём поворот меток на оси абсцисс\n",
    "ax.xaxis.set_tick_params(rotation=45)\n",
    "\n",
    "ax.legend(['A', 'B'])\n",
    "\n",
    "# задаём отображение сетки\n",
    "ax.grid();"
   ]
  },
  {
   "cell_type": "markdown",
   "metadata": {},
   "source": [
    "Как следует из графика кумулятивной конверсии по дням, в самом начале теста величина была подвержена сильным колебаниям, однако ближе к концу периода тестирование происходит стабилизация метрики. Конверсия группы A несколько больше, однако различия не значительны.\n",
    "\n",
    "Величина кумулятивного среднего чека для группы A с самого начала теста несколько снижается, а для группы B, наоборот, увеличивается. Средний чек для группы A больше, чем для группы B. Максимальная разница между значениями достигается ближе к концу теста. Значения этой метрики в конце теста также стабильны."
   ]
  },
  {
   "cell_type": "markdown",
   "metadata": {
    "tags": []
   },
   "source": [
    "## **Задание 7.10.**\n",
    "\n",
    "Настало время переходить к проверке статистической значимости разницы между метриками в группах. Начнем с конверсии.\n",
    "\n",
    "Какой тест вы примените для проверки гипотезы о равенстве конверсий в группах?\n",
    "\n",
    "Проведите тестирование при следующих нулевой и альтернативной гипотезе:\n",
    "* $H_0$: Конверсии в группах А и B равны; \n",
    "* $H_1$: Конверсия в группе А больше чем конверсия в группе B;\n",
    "\n",
    "Вычислите p-value вашего теста для конверсий в группах А и B. Сравните полученное значение p-value с уровнем значимости $\\alpha$=0.05. "
   ]
  },
  {
   "cell_type": "code",
   "execution_count": 22,
   "metadata": {},
   "outputs": [
    {
     "data": {
      "text/html": [
       "<div>\n",
       "<style scoped>\n",
       "    .dataframe tbody tr th:only-of-type {\n",
       "        vertical-align: middle;\n",
       "    }\n",
       "\n",
       "    .dataframe tbody tr th {\n",
       "        vertical-align: top;\n",
       "    }\n",
       "\n",
       "    .dataframe thead th {\n",
       "        text-align: right;\n",
       "    }\n",
       "</style>\n",
       "<table border=\"1\" class=\"dataframe\">\n",
       "  <thead>\n",
       "    <tr style=\"text-align: right;\">\n",
       "      <th></th>\n",
       "      <th>user_id</th>\n",
       "      <th>purchase</th>\n",
       "    </tr>\n",
       "    <tr>\n",
       "      <th>group</th>\n",
       "      <th></th>\n",
       "      <th></th>\n",
       "    </tr>\n",
       "  </thead>\n",
       "  <tbody>\n",
       "    <tr>\n",
       "      <th>A</th>\n",
       "      <td>145307</td>\n",
       "      <td>17487</td>\n",
       "    </tr>\n",
       "    <tr>\n",
       "      <th>B</th>\n",
       "      <td>145381</td>\n",
       "      <td>17290</td>\n",
       "    </tr>\n",
       "  </tbody>\n",
       "</table>\n",
       "</div>"
      ],
      "text/plain": [
       "       user_id  purchase\n",
       "group                   \n",
       "A       145307     17487\n",
       "B       145381     17290"
      ]
     },
     "execution_count": 22,
     "metadata": {},
     "output_type": "execute_result"
    }
   ],
   "source": [
    "# Суммарное количество успехов и общее кол-во наблюдений\n",
    "converted_piv = updated_data.groupby('group').agg({\n",
    "    'user_id': 'count', 'purchase': 'sum'})\n",
    "\n",
    "converted_piv"
   ]
  },
  {
   "cell_type": "code",
   "execution_count": 23,
   "metadata": {},
   "outputs": [
    {
     "name": "stdout",
     "output_type": "stream",
     "text": [
      "p-value:  0.12\n",
      "Принимаем нулевую гипотезу. Конверсии в группах А и B равны\n"
     ]
    }
   ],
   "source": [
    "# Гипотезы\n",
    "H0 = 'Конверсии в группах А и B равны'\n",
    "H1 = 'Конверсия в группе А больше чем конверсия в группе B'\n",
    "\n",
    "# Уровень значимости\n",
    "alpha = 0.05 \n",
    "\n",
    "# p-value для z-теста для пропорции\n",
    "_, p_value = proportions_ztest(\n",
    "    count=converted_piv['purchase'], #число \"успехов\"\n",
    "    nobs=converted_piv['user_id'], #общее число наблюдений\n",
    "    alternative='larger',\n",
    ")\n",
    "\n",
    "print('p-value: ', round(p_value, 2))\n",
    "\n",
    "# сравниваем полученное p-value с уровнем значимости\n",
    "if (p_value < alpha): \n",
    "    print(\"Отвергаем нулевую гипотезу. {}\".format(H0))\n",
    "    print(\"Альтернативная гипотеза. H1: {}\".format(H1))\n",
    "else:\n",
    "    print(\"Принимаем нулевую гипотезу. {}\".format(H0))\n",
    " "
   ]
  },
  {
   "cell_type": "markdown",
   "metadata": {},
   "source": [
    "Приведите свои выводы по результатам проведенного статистического теста. Есть ли статистическая разница между конверсиями в группах А и B?"
   ]
  },
  {
   "cell_type": "markdown",
   "metadata": {},
   "source": [
    "Для проверки гипотезы о равенстве конверсий используется z-тест. По результатам проведения теста подтвердилась нулевая гипотеза об отсутствии различий между конверсиями для групп A и B."
   ]
  },
  {
   "cell_type": "markdown",
   "metadata": {
    "tags": []
   },
   "source": [
    "## **Задание 7.11.**\n",
    "Убедитесь в своих рассуждениях, построив 95%-ый доверительный интервал для конверсий и разницы между ними. Используйте $z_{крит}$ в своих расчетах\n",
    "\n",
    "Укажите нижнюю и верхнюю границы доверительных интервалов. Границы приведите в процентах и округлите до 2 знака после запятой. Например: нижняя граница 89.24%, верхняя граница 91.25%."
   ]
  },
  {
   "cell_type": "code",
   "execution_count": 24,
   "metadata": {},
   "outputs": [],
   "source": [
    "# Используются функции для границ интервала из модуля\n",
    "def proportions_conf_interval(n, x_p, gamma=0.95):\n",
    "    \"\"\"\n",
    "    Расчет границ доверительного интервала для пропорции\n",
    "    n - размер выборки \n",
    "    x_p - выборочная пропорция\n",
    "    gamma - доверительный интервал\n",
    "    \"\"\"\n",
    "    # уровень значимости\n",
    "    alpha = 1 - gamma\n",
    "    \n",
    "    # z критическое\n",
    "    z_crit = -norm.ppf(alpha/2)\n",
    "    \n",
    "    # погрешность\n",
    "    eps = z_crit * (x_p * (1 - x_p) / n) ** 0.5\n",
    "    \n",
    "    # Левая и правая границы\n",
    "    lower_bound = x_p - eps\n",
    "    upper_bound = x_p + eps\n",
    "    \n",
    "    # Кортеж из округлённых границ интервала\n",
    "    return round(lower_bound * 100, 2), round(upper_bound * 100, 2)\n",
    "\n",
    "def diff_proportions_conf_interval(n, xp, gamma=0.95):\n",
    "    \"\"\"\n",
    "    Расчет границ доверительного интервала для разницы пропорций\n",
    "    n - список размеров выборок\n",
    "    x_p - список выборочных пропорций\n",
    "    \"\"\"\n",
    "    # Уровень значимости\n",
    "    alpha = 1 - gamma\n",
    "    \n",
    "    # Выборочная разница конверсий для групп\n",
    "    diff = xp[1] - xp[0]\n",
    "    \n",
    "    # z-критическое\n",
    "    z_crit = -norm.ppf(alpha/2)\n",
    "    \n",
    "    # Погрешность\n",
    "    eps = z_crit * (\n",
    "        xp[0] * (1 - xp[0])/n[0] + xp[1] * (1 - xp[1])/n[1]) ** 0.5\n",
    "    \n",
    "    # Границы интервала\n",
    "    lower_bound = diff - eps\n",
    "    upper_bound = diff + eps\n",
    "    \n",
    "    return round(lower_bound *100, 2), round(upper_bound * 100, 2)"
   ]
  },
  {
   "cell_type": "code",
   "execution_count": 25,
   "metadata": {},
   "outputs": [
    {
     "name": "stdout",
     "output_type": "stream",
     "text": [
      "Доверительный интервал для конверсии группы A: (11.87, 12.2)\n",
      "Доверительный интервал для конверсии группы B: (11.73, 12.06)\n",
      "Доверительный интервал для разности конверсий: (-0.38, 0.09)\n"
     ]
    }
   ],
   "source": [
    "# Данные для групп A и B\n",
    "a_data = updated_data[updated_data['group']=='A']\n",
    "b_data = updated_data[updated_data['group']=='B']\n",
    "\n",
    "# Интервал для группы A\n",
    "interval_a = proportions_conf_interval(\n",
    "    n=a_data['user_id'].count(),\n",
    "    x_p=a_data['purchase'].mean()\n",
    ")\n",
    "\n",
    "interval_b = proportions_conf_interval(\n",
    "    n=b_data['user_id'].count(),\n",
    "    x_p=b_data['purchase'].mean()\n",
    ")\n",
    "\n",
    "print(f'Доверительный интервал для конверсии группы A: {interval_a}')\n",
    "print(f'Доверительный интервал для конверсии группы B: {interval_b}')\n",
    "\n",
    "# Размеры и выборочные пропорции\n",
    "n_ab = [a_data['user_id'].count(), b_data['user_id'].count()]\n",
    "xp_ab = [a_data['purchase'].mean(), b_data['purchase'].mean()]\n",
    "\n",
    "# Доверительный интервал для разности конверсий\n",
    "diff_interval = diff_proportions_conf_interval(n_ab, xp_ab)\n",
    "\n",
    "print(f'Доверительный интервал для разности конверсий: {diff_interval}')"
   ]
  },
  {
   "cell_type": "markdown",
   "metadata": {},
   "source": [
    "Проинтерпретируйте построенные доверительные интервалы для конверсий в группах. Есть ли перекрытие между доверительными интервалами для групп? Есть ли статистическая разница между конверсиями в группах А и B?"
   ]
  },
  {
   "cell_type": "markdown",
   "metadata": {},
   "source": [
    "Доверительный интевал для разности конверсий включает в себя нулевое значение. Отсюда можно сделать вывод, что варианты A и B равнозначны по метрике конверсии. Истинная разница в конверсии может быть как положительна, так и отрицательна, но при этом близка к нулю."
   ]
  },
  {
   "cell_type": "markdown",
   "metadata": {},
   "source": [
    "## **Задание 7.12.**\n",
    "\n",
    "Ранее мы построили таблицу с ежедневными показателями. Теперь она нам снова понадобится, так как нас интересует ежедневный средний чек.\n",
    "\n",
    "Проверьте гипотезу о нормальности распределения ежедневного среднего чека в каждой из групп тестирования. \n",
    "\n",
    "* Какой тест вы примените  для проверки гипотезы о нормальности распределения ежедневного среднего чека?\n",
    "* Как будут звучать нулевая и альтернативная гипотезы?\n",
    "* Каковы результаты статистического теста с уровнем значимости $\\alpha$ =0.05?"
   ]
  },
  {
   "cell_type": "code",
   "execution_count": 26,
   "metadata": {},
   "outputs": [
    {
     "data": {
      "image/png": "[encoded data removed]",
      "text/plain": [
       "<Figure size 864x288 with 2 Axes>"
      ]
     },
     "metadata": {
      "needs_background": "light"
     },
     "output_type": "display_data"
    }
   ],
   "source": [
    "# Построение распределений среднего ежедневного чека\n",
    "fig, axes = plt.subplots(1, 2, figsize=(12, 4))\n",
    "\n",
    "# Гистограммы\n",
    "sns.histplot(x='daily_mean_cheque', \n",
    "             data=upd_data_group[upd_data_group['group']=='A'], \n",
    "             ax=axes[0])\n",
    "sns.histplot(x='daily_mean_cheque', \n",
    "             data=upd_data_group[upd_data_group['group']=='B'], \n",
    "             ax=axes[1])\n",
    "\n",
    "axes[0].set_title('Распределение среднего чека в группе А');\n",
    "axes[1].set_title('Распределение среднего чека в группе B');"
   ]
  },
  {
   "cell_type": "code",
   "execution_count": 27,
   "metadata": {},
   "outputs": [
    {
     "name": "stdout",
     "output_type": "stream",
     "text": [
      "p-value группы А 0.25\n",
      "p-value группы B 0.09\n",
      "Принимаем нулевую гипотезу. Распределения в обеих группах нормальные\n"
     ]
    }
   ],
   "source": [
    "# Гипотезы\n",
    "H0 = 'Распределения в обеих группах нормальные'\n",
    "H1 = 'Распределение в одной или обеих группах отлично от нормального'\n",
    "\n",
    "# Уровень значимости\n",
    "alpha = 0.05\n",
    "\n",
    "# вычисляем результат теста Шапиро-Уилка для выборок\n",
    "shapiro_dcheque_a = shapiro(upd_data_group[\n",
    "    upd_data_group['group']=='A']['daily_mean_cheque'])\n",
    "shapiro_dcheque_b = shapiro(upd_data_group[\n",
    "    upd_data_group['group']=='B']['daily_mean_cheque'])\n",
    "\n",
    "print('p-value группы А', round(shapiro_dcheque_a.pvalue, 2))\n",
    "print('p-value группы B', round(shapiro_dcheque_b.pvalue, 2))\n",
    "\n",
    "# сравниваем полученное p-value с уровнем значимости\n",
    "if ((shapiro_dcheque_a.pvalue < alpha) or \n",
    "    (shapiro_dcheque_b.pvalue < alpha)):\n",
    "    print(\"Отвергаем нулевую гипотезу. {}\".format(H0))\n",
    "    print(\"Альтернативная гипотеза. H1: {}\".format(H1))\n",
    "else:\n",
    "    print(\"Принимаем нулевую гипотезу. {}\".format(H0))"
   ]
  },
  {
   "cell_type": "markdown",
   "metadata": {},
   "source": [
    "Для проверки гипотезы о нормальности распределения ежедневного среднего чека для обеих групп используется тест Шапиро-Уилка. С уровнем значимости 0.05 распределения для обеих группах нормальные."
   ]
  },
  {
   "cell_type": "markdown",
   "metadata": {
    "tags": []
   },
   "source": [
    "## **Задание 7.13.**\n",
    "Настало время сравнить варианты дизайна страницы по метрике среднего чека. \n",
    "\n",
    "Какой тест вы примените для проверки гипотезы о равенстве средних чеков по дням в группах?\n",
    "\n",
    "Проведите тестирование при следующих нулевой и альтернативной гипотезе:\n",
    "* $H_0$: Ежедневные средние чеки в группах А и B равны; \n",
    "* $H_1$: Ежедневный средний чек в группе А меньше чем в группе B;\n",
    "\n",
    "Вычислите p-value вашего теста для ежедневного среднего чека в группах А и B. Сравните полученное значение p-value с уровнем значимости $\\alpha$ =0.05. "
   ]
  },
  {
   "cell_type": "code",
   "execution_count": 28,
   "metadata": {},
   "outputs": [
    {
     "name": "stdout",
     "output_type": "stream",
     "text": [
      "p-value 0.0\n",
      "Отвергаем нулевую гипотезу. Ежедневные средние чеки в группах А и B равны\n",
      "Альтернативная гипотеза. H1: Ежедневный средний чек в группе А меньше чем в группе B\n"
     ]
    }
   ],
   "source": [
    "# Гипотезы\n",
    "H0 = 'Ежедневные средние чеки в группах А и B равны'\n",
    "H1 = 'Ежедневный средний чек в группе А меньше чем в группе B'\n",
    "\n",
    "# Уровень значимости\n",
    "alpha = 0.05\n",
    "\n",
    "# вычисляем результат t-теста для выборок\n",
    "ttest_mean_dcheque = ttest_ind(\n",
    "    a=upd_data_group[upd_data_group['group']=='A']['daily_mean_cheque'], \n",
    "    b=upd_data_group[upd_data_group['group']=='B']['daily_mean_cheque'], \n",
    "    alternative='less'\n",
    ")\n",
    "\n",
    "print('p-value', round(ttest_mean_dcheque.pvalue, 2))\n",
    "\n",
    "# сравниваем полученное p-value с уровнем значимости\n",
    "if ttest_mean_dcheque.pvalue < alpha:\n",
    "    print(\"Отвергаем нулевую гипотезу. {}\".format(H0))\n",
    "    print(\"Альтернативная гипотеза. H1: {}\".format(H1))\n",
    "else:\n",
    "    print(\"Принимаем нулевую гипотезу. {}\".format(H0))"
   ]
  },
  {
   "cell_type": "markdown",
   "metadata": {},
   "source": [
    " Приведите свои выводы по проведенному статистическому тесту. Есть ли статистическая разница между ежедневными средними чеками в группах А и B?"
   ]
  },
  {
   "cell_type": "markdown",
   "metadata": {},
   "source": [
    "Для проверки гипотезы о равенстве средних ежедневных чеков используется t-тест. Согласно его результатам нулевая гипотеза может быть отвергнута, и, таким образом: Ежедневный средний чек в группе A меньше чем в B."
   ]
  },
  {
   "cell_type": "markdown",
   "metadata": {
    "tags": []
   },
   "source": [
    "## **Задание 7.14.**\n",
    "\n",
    "Постройте 95%-ый доверительный интервал для среднего чека в каждой группе. Так как выборка средних чеков небольшая, используйте  $t_{крит}$ в своих расчетах.\n",
    "\n",
    "Укажите нижнюю границу доверительного интервала для истинного среднего чека каждой из групп. Ответ приведите в процентах и округлите до целого."
   ]
  },
  {
   "cell_type": "code",
   "execution_count": 29,
   "metadata": {},
   "outputs": [
    {
     "data": {
      "text/html": [
       "<div>\n",
       "<style scoped>\n",
       "    .dataframe tbody tr th:only-of-type {\n",
       "        vertical-align: middle;\n",
       "    }\n",
       "\n",
       "    .dataframe tbody tr th {\n",
       "        vertical-align: top;\n",
       "    }\n",
       "\n",
       "    .dataframe thead th {\n",
       "        text-align: right;\n",
       "    }\n",
       "</style>\n",
       "<table border=\"1\" class=\"dataframe\">\n",
       "  <thead>\n",
       "    <tr style=\"text-align: right;\">\n",
       "      <th></th>\n",
       "      <th>mean</th>\n",
       "      <th>std</th>\n",
       "    </tr>\n",
       "    <tr>\n",
       "      <th>group</th>\n",
       "      <th></th>\n",
       "      <th></th>\n",
       "    </tr>\n",
       "  </thead>\n",
       "  <tbody>\n",
       "    <tr>\n",
       "      <th>A</th>\n",
       "      <td>80969.347826</td>\n",
       "      <td>3096.388506</td>\n",
       "    </tr>\n",
       "    <tr>\n",
       "      <th>B</th>\n",
       "      <td>88575.739130</td>\n",
       "      <td>2196.705844</td>\n",
       "    </tr>\n",
       "  </tbody>\n",
       "</table>\n",
       "</div>"
      ],
      "text/plain": [
       "               mean          std\n",
       "group                           \n",
       "A      80969.347826  3096.388506\n",
       "B      88575.739130  2196.705844"
      ]
     },
     "execution_count": 29,
     "metadata": {},
     "output_type": "execute_result"
    }
   ],
   "source": [
    "# Параметры выборочных среднего и стандартного отклонения для групп\n",
    "mean_std_data = upd_data_group.groupby('group')['daily_mean_cheque'].agg(\n",
    "    ('mean', 'std'))\n",
    "\n",
    "mean_std_data"
   ]
  },
  {
   "cell_type": "code",
   "execution_count": 30,
   "metadata": {},
   "outputs": [],
   "source": [
    "def tcrit_mean_interval(n, x_mean, x_std, gamma=0.95):\n",
    "    \"\"\"\n",
    "    Доверительный интервал для среднего, t-распределение\n",
    "    n - размер выборки\n",
    "    x_mean - выборочное среднее\n",
    "    x_std - выборочное стандартное отклонение \n",
    "    gamma - уровень надежности\n",
    "    \"\"\"\n",
    "    # Число степеней свободы\n",
    "    k = n - 1\n",
    "    \n",
    "    # Уровень значимости\n",
    "    alpha = 1 - gamma\n",
    "    \n",
    "    # t-критическое\n",
    "    t_crit = -t.ppf(alpha/2, k)\n",
    "    \n",
    "    # Погрешность\n",
    "    eps = t_crit * x_std / (n**0.5)\n",
    "    \n",
    "    # Границы интервалов\n",
    "    lower_bound = round(x_mean - eps)\n",
    "    upper_bound = round(x_mean + eps)\n",
    "    \n",
    "    return lower_bound, upper_bound"
   ]
  },
  {
   "cell_type": "code",
   "execution_count": 31,
   "metadata": {},
   "outputs": [
    {
     "name": "stdout",
     "output_type": "stream",
     "text": [
      "Доверительный интервал для среднего дневного чека для A: (79630, 82308)\n",
      "Доверительный интервал для среднего дневного чека для B: (87626, 89526)\n"
     ]
    }
   ],
   "source": [
    "# Вычисление интервалов\n",
    "interval_a = tcrit_mean_interval(\n",
    "    n=upd_data_group[upd_data_group['group']=='A'].shape[0], \n",
    "    x_mean=mean_std_data.loc['A', 'mean'], \n",
    "    x_std=mean_std_data.loc['A', 'std'])\n",
    "\n",
    "interval_b = tcrit_mean_interval(\n",
    "    n=upd_data_group[upd_data_group['group']=='B'].shape[0], \n",
    "    x_mean=mean_std_data.loc['B', 'mean'], \n",
    "    x_std=mean_std_data.loc['B', 'std'])\n",
    "\n",
    "print('Доверительный интервал для среднего дневного чека для A: ', end='')\n",
    "print(f'{interval_a}')\n",
    "\n",
    "print('Доверительный интервал для среднего дневного чека для B: ', end='')\n",
    "print(f'{interval_b}')"
   ]
  },
  {
   "cell_type": "markdown",
   "metadata": {},
   "source": [
    "Проинтерпретируйте построенные доверительные интервалы для ежедневных средних чеков в группах. Есть ли между ними пересечения?"
   ]
  },
  {
   "cell_type": "markdown",
   "metadata": {},
   "source": [
    "Пересечение между доверительными интервалами для ежедневных средних чеков для 2х групп отсутствует. Это говорит о том, что истинные средние значения с вероятностью не менее 95% не совпадут. А поскольку интервалы разнесены достаточно далеко друг от друга, то эта вероятность еще выше."
   ]
  },
  {
   "cell_type": "markdown",
   "metadata": {
    "tags": []
   },
   "source": [
    "## **Сделайте общий вывод по результатам A/B-теста**\n",
    "\n",
    "Какой варианта дизайна посадочной страницы является более эффективным в комплексе по метрикам конверсии и среднего чека и почему? "
   ]
  },
  {
   "cell_type": "markdown",
   "metadata": {},
   "source": [
    "#### Выводы\n",
    "По результатам проведения A/B тестирования с двумя метриками для 2х вариантов посадочной страницы можно сделать следующие выводы:\n",
    "* выбор варианта страницы не влияет на конверсию покупки тура на сайте - следует из подтверждения гипотезы о равенстве конверсии;\n",
    "* предыдущий вывод также подтверждается тем, что границы интервала для разности конверсий имеют различные знаки;\n",
    "* тестовый вариант B ведет к увеличению ежедневного среднего чека - это следует из опровержения гипотезы о равенстве средних ежедневных чеков;\n",
    "* также предыдущий вывод подтверждается отсутствием пересечения доверительных интервалов для истинных средних ежедневных чеков;\n",
    "* на основании вышесказанного, вариант стартовой страницы B является более предпочтительным для дальнейшего использования"
   ]
  },
  {
   "cell_type": "code",
   "execution_count": null,
   "metadata": {},
   "outputs": [],
   "source": []
  }
 ],
 "metadata": {
  "kernelspec": {
   "display_name": "Python 3",
   "language": "python",
   "name": "python3"
  },
  "language_info": {
   "codemirror_mode": {
    "name": "ipython",
    "version": 3
   },
   "file_extension": ".py",
   "mimetype": "text/x-python",
   "name": "python",
   "nbconvert_exporter": "python",
   "pygments_lexer": "ipython3",
   "version": "3.7.4"
  }
 },
 "nbformat": 4,
 "nbformat_minor": 5
}
